{
 "cells": [
  {
   "cell_type": "code",
   "execution_count": 1,
   "metadata": {},
   "outputs": [],
   "source": [
    "import numpy as np\n",
    "import matplotlib.pyplot as plt\n",
    "import pandas as pd"
   ]
  },
  {
   "cell_type": "code",
   "execution_count": 2,
   "metadata": {},
   "outputs": [],
   "source": [
    "df = pd.read_csv('Churn_Modelling.csv')\n",
    "X = df.iloc[:, 3:13]\n",
    "y = df.iloc[:, 13]\n"
   ]
  },
  {
   "cell_type": "code",
   "execution_count": 9,
   "metadata": {},
   "outputs": [
    {
     "data": {
      "text/html": [
       "<div>\n",
       "<style scoped>\n",
       "    .dataframe tbody tr th:only-of-type {\n",
       "        vertical-align: middle;\n",
       "    }\n",
       "\n",
       "    .dataframe tbody tr th {\n",
       "        vertical-align: top;\n",
       "    }\n",
       "\n",
       "    .dataframe thead th {\n",
       "        text-align: right;\n",
       "    }\n",
       "</style>\n",
       "<table border=\"1\" class=\"dataframe\">\n",
       "  <thead>\n",
       "    <tr style=\"text-align: right;\">\n",
       "      <th></th>\n",
       "      <th>CreditScore</th>\n",
       "      <th>Age</th>\n",
       "      <th>Tenure</th>\n",
       "      <th>Balance</th>\n",
       "      <th>NumOfProducts</th>\n",
       "      <th>HasCrCard</th>\n",
       "      <th>IsActiveMember</th>\n",
       "      <th>EstimatedSalary</th>\n",
       "      <th>Germany</th>\n",
       "      <th>Spain</th>\n",
       "      <th>Male</th>\n",
       "    </tr>\n",
       "  </thead>\n",
       "  <tbody>\n",
       "    <tr>\n",
       "      <th>0</th>\n",
       "      <td>619</td>\n",
       "      <td>42</td>\n",
       "      <td>2</td>\n",
       "      <td>0.00</td>\n",
       "      <td>1</td>\n",
       "      <td>1</td>\n",
       "      <td>1</td>\n",
       "      <td>101348.88</td>\n",
       "      <td>0</td>\n",
       "      <td>0</td>\n",
       "      <td>0</td>\n",
       "    </tr>\n",
       "    <tr>\n",
       "      <th>1</th>\n",
       "      <td>608</td>\n",
       "      <td>41</td>\n",
       "      <td>1</td>\n",
       "      <td>83807.86</td>\n",
       "      <td>1</td>\n",
       "      <td>0</td>\n",
       "      <td>1</td>\n",
       "      <td>112542.58</td>\n",
       "      <td>0</td>\n",
       "      <td>1</td>\n",
       "      <td>0</td>\n",
       "    </tr>\n",
       "    <tr>\n",
       "      <th>2</th>\n",
       "      <td>502</td>\n",
       "      <td>42</td>\n",
       "      <td>8</td>\n",
       "      <td>159660.80</td>\n",
       "      <td>3</td>\n",
       "      <td>1</td>\n",
       "      <td>0</td>\n",
       "      <td>113931.57</td>\n",
       "      <td>0</td>\n",
       "      <td>0</td>\n",
       "      <td>0</td>\n",
       "    </tr>\n",
       "    <tr>\n",
       "      <th>3</th>\n",
       "      <td>699</td>\n",
       "      <td>39</td>\n",
       "      <td>1</td>\n",
       "      <td>0.00</td>\n",
       "      <td>2</td>\n",
       "      <td>0</td>\n",
       "      <td>0</td>\n",
       "      <td>93826.63</td>\n",
       "      <td>0</td>\n",
       "      <td>0</td>\n",
       "      <td>0</td>\n",
       "    </tr>\n",
       "    <tr>\n",
       "      <th>4</th>\n",
       "      <td>850</td>\n",
       "      <td>43</td>\n",
       "      <td>2</td>\n",
       "      <td>125510.82</td>\n",
       "      <td>1</td>\n",
       "      <td>1</td>\n",
       "      <td>1</td>\n",
       "      <td>79084.10</td>\n",
       "      <td>0</td>\n",
       "      <td>1</td>\n",
       "      <td>0</td>\n",
       "    </tr>\n",
       "  </tbody>\n",
       "</table>\n",
       "</div>"
      ],
      "text/plain": [
       "   CreditScore  Age  Tenure    Balance  NumOfProducts  HasCrCard  \\\n",
       "0          619   42       2       0.00              1          1   \n",
       "1          608   41       1   83807.86              1          0   \n",
       "2          502   42       8  159660.80              3          1   \n",
       "3          699   39       1       0.00              2          0   \n",
       "4          850   43       2  125510.82              1          1   \n",
       "\n",
       "   IsActiveMember  EstimatedSalary  Germany  Spain  Male  \n",
       "0               1        101348.88        0      0     0  \n",
       "1               1        112542.58        0      1     0  \n",
       "2               0        113931.57        0      0     0  \n",
       "3               0         93826.63        0      0     0  \n",
       "4               1         79084.10        0      1     0  "
      ]
     },
     "execution_count": 9,
     "metadata": {},
     "output_type": "execute_result"
    }
   ],
   "source": [
    "X.head()"
   ]
  },
  {
   "cell_type": "code",
   "execution_count": 10,
   "metadata": {},
   "outputs": [
    {
     "data": {
      "text/plain": [
       "0    1\n",
       "1    0\n",
       "2    1\n",
       "3    0\n",
       "4    0\n",
       "Name: Exited, dtype: int64"
      ]
     },
     "execution_count": 10,
     "metadata": {},
     "output_type": "execute_result"
    }
   ],
   "source": [
    "y.head()"
   ]
  },
  {
   "cell_type": "code",
   "execution_count": 3,
   "metadata": {},
   "outputs": [],
   "source": [
    "#Create dummy variables\n",
    "geography=pd.get_dummies(X[\"Geography\"],drop_first=True)\n",
    "gender=pd.get_dummies(X['Gender'],drop_first=True)"
   ]
  },
  {
   "cell_type": "code",
   "execution_count": 4,
   "metadata": {},
   "outputs": [],
   "source": [
    "## Concatenate the Data Frames\n",
    "X=pd.concat([X,geography,gender],axis=1)"
   ]
  },
  {
   "cell_type": "code",
   "execution_count": 5,
   "metadata": {},
   "outputs": [],
   "source": [
    "## Drop Unnecessary columns\n",
    "X=X.drop(['Geography','Gender'],axis=1)"
   ]
  },
  {
   "cell_type": "code",
   "execution_count": 6,
   "metadata": {},
   "outputs": [],
   "source": [
    "# Splitting the dataset into the Training set and Test set\n",
    "from sklearn.model_selection import train_test_split\n",
    "X_train, X_test, y_train, y_test = train_test_split(X, y, test_size = 0.2, random_state = 0)"
   ]
  },
  {
   "cell_type": "code",
   "execution_count": 7,
   "metadata": {},
   "outputs": [],
   "source": [
    "# Feature Scaling\n",
    "from sklearn.preprocessing import StandardScaler\n",
    "sc = StandardScaler()\n",
    "X_train = sc.fit_transform(X_train)\n",
    "X_test = sc.transform(X_test)"
   ]
  },
  {
   "cell_type": "code",
   "execution_count": 8,
   "metadata": {},
   "outputs": [
    {
     "name": "stderr",
     "output_type": "stream",
     "text": [
      "Using TensorFlow backend.\n",
      "D:\\anaconda\\lib\\site-packages\\tensorflow\\python\\framework\\dtypes.py:516: FutureWarning: Passing (type, 1) or '1type' as a synonym of type is deprecated; in a future version of numpy, it will be understood as (type, (1,)) / '(1,)type'.\n",
      "  _np_qint8 = np.dtype([(\"qint8\", np.int8, 1)])\n",
      "D:\\anaconda\\lib\\site-packages\\tensorflow\\python\\framework\\dtypes.py:517: FutureWarning: Passing (type, 1) or '1type' as a synonym of type is deprecated; in a future version of numpy, it will be understood as (type, (1,)) / '(1,)type'.\n",
      "  _np_quint8 = np.dtype([(\"quint8\", np.uint8, 1)])\n",
      "D:\\anaconda\\lib\\site-packages\\tensorflow\\python\\framework\\dtypes.py:518: FutureWarning: Passing (type, 1) or '1type' as a synonym of type is deprecated; in a future version of numpy, it will be understood as (type, (1,)) / '(1,)type'.\n",
      "  _np_qint16 = np.dtype([(\"qint16\", np.int16, 1)])\n",
      "D:\\anaconda\\lib\\site-packages\\tensorflow\\python\\framework\\dtypes.py:519: FutureWarning: Passing (type, 1) or '1type' as a synonym of type is deprecated; in a future version of numpy, it will be understood as (type, (1,)) / '(1,)type'.\n",
      "  _np_quint16 = np.dtype([(\"quint16\", np.uint16, 1)])\n",
      "D:\\anaconda\\lib\\site-packages\\tensorflow\\python\\framework\\dtypes.py:520: FutureWarning: Passing (type, 1) or '1type' as a synonym of type is deprecated; in a future version of numpy, it will be understood as (type, (1,)) / '(1,)type'.\n",
      "  _np_qint32 = np.dtype([(\"qint32\", np.int32, 1)])\n",
      "D:\\anaconda\\lib\\site-packages\\tensorflow\\python\\framework\\dtypes.py:525: FutureWarning: Passing (type, 1) or '1type' as a synonym of type is deprecated; in a future version of numpy, it will be understood as (type, (1,)) / '(1,)type'.\n",
      "  np_resource = np.dtype([(\"resource\", np.ubyte, 1)])\n",
      "D:\\anaconda\\lib\\site-packages\\tensorboard\\compat\\tensorflow_stub\\dtypes.py:541: FutureWarning: Passing (type, 1) or '1type' as a synonym of type is deprecated; in a future version of numpy, it will be understood as (type, (1,)) / '(1,)type'.\n",
      "  _np_qint8 = np.dtype([(\"qint8\", np.int8, 1)])\n",
      "D:\\anaconda\\lib\\site-packages\\tensorboard\\compat\\tensorflow_stub\\dtypes.py:542: FutureWarning: Passing (type, 1) or '1type' as a synonym of type is deprecated; in a future version of numpy, it will be understood as (type, (1,)) / '(1,)type'.\n",
      "  _np_quint8 = np.dtype([(\"quint8\", np.uint8, 1)])\n",
      "D:\\anaconda\\lib\\site-packages\\tensorboard\\compat\\tensorflow_stub\\dtypes.py:543: FutureWarning: Passing (type, 1) or '1type' as a synonym of type is deprecated; in a future version of numpy, it will be understood as (type, (1,)) / '(1,)type'.\n",
      "  _np_qint16 = np.dtype([(\"qint16\", np.int16, 1)])\n",
      "D:\\anaconda\\lib\\site-packages\\tensorboard\\compat\\tensorflow_stub\\dtypes.py:544: FutureWarning: Passing (type, 1) or '1type' as a synonym of type is deprecated; in a future version of numpy, it will be understood as (type, (1,)) / '(1,)type'.\n",
      "  _np_quint16 = np.dtype([(\"quint16\", np.uint16, 1)])\n",
      "D:\\anaconda\\lib\\site-packages\\tensorboard\\compat\\tensorflow_stub\\dtypes.py:545: FutureWarning: Passing (type, 1) or '1type' as a synonym of type is deprecated; in a future version of numpy, it will be understood as (type, (1,)) / '(1,)type'.\n",
      "  _np_qint32 = np.dtype([(\"qint32\", np.int32, 1)])\n",
      "D:\\anaconda\\lib\\site-packages\\tensorboard\\compat\\tensorflow_stub\\dtypes.py:550: FutureWarning: Passing (type, 1) or '1type' as a synonym of type is deprecated; in a future version of numpy, it will be understood as (type, (1,)) / '(1,)type'.\n",
      "  np_resource = np.dtype([(\"resource\", np.ubyte, 1)])\n"
     ]
    }
   ],
   "source": [
    "# Part 2 - Now let's make the ANN!\n",
    "\n",
    "# Importing the Keras libraries and packages\n",
    "import keras\n",
    "from keras.models import Sequential\n",
    "from keras.layers import Dense\n",
    "from keras.layers import LeakyReLU,PReLU,ELU\n",
    "from keras.layers import Dropout"
   ]
  },
  {
   "cell_type": "code",
   "execution_count": 11,
   "metadata": {},
   "outputs": [],
   "source": [
    "# Initialising the ANN\n",
    "classifier = Sequential()"
   ]
  },
  {
   "cell_type": "code",
   "execution_count": 13,
   "metadata": {},
   "outputs": [],
   "source": [
    "# Adding the input layer and the first hidden layer\n",
    "classifier.add(Dense(units = 6, kernel_initializer = 'he_uniform',activation='relu',input_dim = 11))"
   ]
  },
  {
   "cell_type": "code",
   "execution_count": 15,
   "metadata": {},
   "outputs": [],
   "source": [
    "# Adding the second hidden layer\n",
    "classifier.add(Dense(units = 6, kernel_initializer = 'he_uniform',activation='relu'))"
   ]
  },
  {
   "cell_type": "code",
   "execution_count": 18,
   "metadata": {},
   "outputs": [],
   "source": [
    "# Adding the output layer\n",
    "classifier.add(Dense(units = 1, kernel_initializer = 'glorot_uniform', activation = 'sigmoid'))"
   ]
  },
  {
   "cell_type": "code",
   "execution_count": 19,
   "metadata": {},
   "outputs": [
    {
     "name": "stdout",
     "output_type": "stream",
     "text": [
      "WARNING:tensorflow:From D:\\anaconda\\lib\\site-packages\\tensorflow\\python\\ops\\nn_impl.py:180: add_dispatch_support.<locals>.wrapper (from tensorflow.python.ops.array_ops) is deprecated and will be removed in a future version.\n",
      "Instructions for updating:\n",
      "Use tf.where in 2.0, which has the same broadcast rule as np.where\n"
     ]
    }
   ],
   "source": [
    "# Compiling the ANN\n",
    "classifier.compile(optimizer = 'Adamax', loss = 'binary_crossentropy', metrics = ['accuracy'])"
   ]
  },
  {
   "cell_type": "code",
   "execution_count": 20,
   "metadata": {},
   "outputs": [
    {
     "name": "stderr",
     "output_type": "stream",
     "text": [
      "D:\\anaconda\\lib\\site-packages\\ipykernel_launcher.py:2: UserWarning: The `nb_epoch` argument in `fit` has been renamed `epochs`.\n",
      "  \n"
     ]
    },
    {
     "name": "stdout",
     "output_type": "stream",
     "text": [
      "WARNING:tensorflow:From D:\\anaconda\\lib\\site-packages\\keras\\backend\\tensorflow_backend.py:422: The name tf.global_variables is deprecated. Please use tf.compat.v1.global_variables instead.\n",
      "\n",
      "Train on 5359 samples, validate on 2641 samples\n",
      "Epoch 1/100\n",
      "5359/5359 [==============================] - 1s 180us/step - loss: 0.6538 - accuracy: 0.6415 - val_loss: 0.5735 - val_accuracy: 0.7955\n",
      "Epoch 2/100\n",
      "5359/5359 [==============================] - 1s 157us/step - loss: 0.5412 - accuracy: 0.7962 - val_loss: 0.5212 - val_accuracy: 0.7955\n",
      "Epoch 3/100\n",
      "5359/5359 [==============================] - 1s 152us/step - loss: 0.5136 - accuracy: 0.7962 - val_loss: 0.5103 - val_accuracy: 0.7955\n",
      "Epoch 4/100\n",
      "5359/5359 [==============================] - 1s 156us/step - loss: 0.5078 - accuracy: 0.7962 - val_loss: 0.5073 - val_accuracy: 0.7955\n",
      "Epoch 5/100\n",
      "5359/5359 [==============================] - 1s 157us/step - loss: 0.5052 - accuracy: 0.7962 - val_loss: 0.5047 - val_accuracy: 0.7955\n",
      "Epoch 6/100\n",
      "5359/5359 [==============================] - 1s 145us/step - loss: 0.5017 - accuracy: 0.7962 - val_loss: 0.5011 - val_accuracy: 0.7955\n",
      "Epoch 7/100\n",
      "5359/5359 [==============================] - 1s 147us/step - loss: 0.4970 - accuracy: 0.7962 - val_loss: 0.4964 - val_accuracy: 0.7955\n",
      "Epoch 8/100\n",
      "5359/5359 [==============================] - 1s 139us/step - loss: 0.4921 - accuracy: 0.7962 - val_loss: 0.4923 - val_accuracy: 0.7955\n",
      "Epoch 9/100\n",
      "5359/5359 [==============================] - 1s 140us/step - loss: 0.4876 - accuracy: 0.7962 - val_loss: 0.4880 - val_accuracy: 0.7955\n",
      "Epoch 10/100\n",
      "5359/5359 [==============================] - 1s 140us/step - loss: 0.4827 - accuracy: 0.7962 - val_loss: 0.4834 - val_accuracy: 0.7955\n",
      "Epoch 11/100\n",
      "5359/5359 [==============================] - 1s 138us/step - loss: 0.4777 - accuracy: 0.7962 - val_loss: 0.4792 - val_accuracy: 0.7955\n",
      "Epoch 12/100\n",
      "5359/5359 [==============================] - ETA: 0s - loss: 0.4719 - accuracy: 0.79 - 1s 141us/step - loss: 0.4727 - accuracy: 0.7962 - val_loss: 0.4750 - val_accuracy: 0.7955\n",
      "Epoch 13/100\n",
      "5359/5359 [==============================] - 1s 143us/step - loss: 0.4678 - accuracy: 0.7962 - val_loss: 0.4716 - val_accuracy: 0.7955\n",
      "Epoch 14/100\n",
      "5359/5359 [==============================] - 1s 137us/step - loss: 0.4636 - accuracy: 0.7962 - val_loss: 0.4685 - val_accuracy: 0.7955\n",
      "Epoch 15/100\n",
      "5359/5359 [==============================] - 1s 140us/step - loss: 0.4593 - accuracy: 0.7962 - val_loss: 0.4657 - val_accuracy: 0.7955\n",
      "Epoch 16/100\n",
      "5359/5359 [==============================] - 1s 139us/step - loss: 0.4555 - accuracy: 0.7962 - val_loss: 0.4636 - val_accuracy: 0.7955\n",
      "Epoch 17/100\n",
      "5359/5359 [==============================] - 1s 143us/step - loss: 0.4518 - accuracy: 0.7962 - val_loss: 0.4617 - val_accuracy: 0.7955\n",
      "Epoch 18/100\n",
      "5359/5359 [==============================] - 1s 141us/step - loss: 0.4485 - accuracy: 0.7962 - val_loss: 0.4600 - val_accuracy: 0.7955\n",
      "Epoch 19/100\n",
      "5359/5359 [==============================] - 1s 150us/step - loss: 0.4460 - accuracy: 0.7962 - val_loss: 0.4585 - val_accuracy: 0.7955\n",
      "Epoch 20/100\n",
      "5359/5359 [==============================] - 1s 149us/step - loss: 0.4438 - accuracy: 0.7962 - val_loss: 0.4572 - val_accuracy: 0.7955\n",
      "Epoch 21/100\n",
      "5359/5359 [==============================] - 1s 145us/step - loss: 0.4420 - accuracy: 0.7962 - val_loss: 0.4557 - val_accuracy: 0.7955\n",
      "Epoch 22/100\n",
      "5359/5359 [==============================] - 1s 151us/step - loss: 0.4405 - accuracy: 0.7962 - val_loss: 0.4550 - val_accuracy: 0.7955\n",
      "Epoch 23/100\n",
      "5359/5359 [==============================] - 1s 169us/step - loss: 0.4393 - accuracy: 0.7962 - val_loss: 0.4542 - val_accuracy: 0.7955\n",
      "Epoch 24/100\n",
      "5359/5359 [==============================] - 1s 158us/step - loss: 0.4382 - accuracy: 0.7962 - val_loss: 0.4532 - val_accuracy: 0.7955\n",
      "Epoch 25/100\n",
      "5359/5359 [==============================] - 1s 191us/step - loss: 0.4370 - accuracy: 0.7962 - val_loss: 0.4528 - val_accuracy: 0.7955\n",
      "Epoch 26/100\n",
      "5359/5359 [==============================] - 1s 140us/step - loss: 0.4363 - accuracy: 0.7962 - val_loss: 0.4528 - val_accuracy: 0.7955\n",
      "Epoch 27/100\n",
      "5359/5359 [==============================] - 1s 138us/step - loss: 0.4357 - accuracy: 0.7962 - val_loss: 0.4525 - val_accuracy: 0.7955\n",
      "Epoch 28/100\n",
      "5359/5359 [==============================] - 1s 141us/step - loss: 0.4350 - accuracy: 0.7962 - val_loss: 0.4525 - val_accuracy: 0.7955\n",
      "Epoch 29/100\n",
      "5359/5359 [==============================] - 1s 138us/step - loss: 0.4344 - accuracy: 0.7962 - val_loss: 0.4525 - val_accuracy: 0.7955\n",
      "Epoch 30/100\n",
      "5359/5359 [==============================] - 1s 140us/step - loss: 0.4339 - accuracy: 0.7962 - val_loss: 0.4523 - val_accuracy: 0.7955\n",
      "Epoch 31/100\n",
      "5359/5359 [==============================] - 1s 140us/step - loss: 0.4333 - accuracy: 0.7962 - val_loss: 0.4522 - val_accuracy: 0.7955\n",
      "Epoch 32/100\n",
      "5359/5359 [==============================] - 1s 141us/step - loss: 0.4331 - accuracy: 0.7962 - val_loss: 0.4525 - val_accuracy: 0.7955\n",
      "Epoch 33/100\n",
      "5359/5359 [==============================] - 1s 138us/step - loss: 0.4326 - accuracy: 0.7962 - val_loss: 0.4524 - val_accuracy: 0.7955\n",
      "Epoch 34/100\n",
      "5359/5359 [==============================] - 1s 138us/step - loss: 0.4323 - accuracy: 0.7962 - val_loss: 0.4522 - val_accuracy: 0.7955\n",
      "Epoch 35/100\n",
      "5359/5359 [==============================] - 1s 142us/step - loss: 0.4320 - accuracy: 0.7962 - val_loss: 0.4522 - val_accuracy: 0.7955\n",
      "Epoch 36/100\n",
      "5359/5359 [==============================] - 1s 141us/step - loss: 0.4316 - accuracy: 0.7962 - val_loss: 0.4523 - val_accuracy: 0.7955\n",
      "Epoch 37/100\n",
      "5359/5359 [==============================] - 1s 153us/step - loss: 0.4313 - accuracy: 0.7975 - val_loss: 0.4523 - val_accuracy: 0.7955\n",
      "Epoch 38/100\n",
      "5359/5359 [==============================] - 1s 145us/step - loss: 0.4308 - accuracy: 0.7972 - val_loss: 0.4527 - val_accuracy: 0.7955\n",
      "Epoch 39/100\n",
      "5359/5359 [==============================] - 1s 148us/step - loss: 0.4308 - accuracy: 0.8024 - val_loss: 0.4528 - val_accuracy: 0.8039\n",
      "Epoch 40/100\n",
      "5359/5359 [==============================] - 1s 149us/step - loss: 0.4302 - accuracy: 0.7990 - val_loss: 0.4532 - val_accuracy: 0.8008\n",
      "Epoch 41/100\n",
      "5359/5359 [==============================] - 1s 141us/step - loss: 0.4297 - accuracy: 0.8031 - val_loss: 0.4539 - val_accuracy: 0.7993\n",
      "Epoch 42/100\n",
      "5359/5359 [==============================] - 1s 142us/step - loss: 0.4294 - accuracy: 0.8050 - val_loss: 0.4529 - val_accuracy: 0.7955\n",
      "Epoch 43/100\n",
      "5359/5359 [==============================] - 1s 162us/step - loss: 0.4292 - accuracy: 0.8054 - val_loss: 0.4523 - val_accuracy: 0.8031\n",
      "Epoch 44/100\n",
      "5359/5359 [==============================] - 1s 159us/step - loss: 0.4283 - accuracy: 0.8029 - val_loss: 0.4521 - val_accuracy: 0.7948\n",
      "Epoch 45/100\n",
      "5359/5359 [==============================] - 1s 157us/step - loss: 0.4280 - accuracy: 0.8059 - val_loss: 0.4507 - val_accuracy: 0.7970\n",
      "Epoch 46/100\n",
      "5359/5359 [==============================] - 1s 153us/step - loss: 0.4272 - accuracy: 0.8085 - val_loss: 0.4502 - val_accuracy: 0.7963\n",
      "Epoch 47/100\n",
      "5359/5359 [==============================] - 1s 155us/step - loss: 0.4265 - accuracy: 0.8095 - val_loss: 0.4491 - val_accuracy: 0.7970\n",
      "Epoch 48/100\n",
      "5359/5359 [==============================] - 1s 144us/step - loss: 0.4254 - accuracy: 0.8076 - val_loss: 0.4490 - val_accuracy: 0.7880\n",
      "Epoch 49/100\n",
      "5359/5359 [==============================] - 1s 144us/step - loss: 0.4249 - accuracy: 0.8087 - val_loss: 0.4473 - val_accuracy: 0.7917\n",
      "Epoch 50/100\n",
      "5359/5359 [==============================] - 1s 145us/step - loss: 0.4235 - accuracy: 0.8102 - val_loss: 0.4486 - val_accuracy: 0.7830\n",
      "Epoch 51/100\n",
      "5359/5359 [==============================] - 1s 146us/step - loss: 0.4234 - accuracy: 0.8093 - val_loss: 0.4462 - val_accuracy: 0.7914\n",
      "Epoch 52/100\n",
      "5359/5359 [==============================] - 1s 143us/step - loss: 0.4226 - accuracy: 0.8102 - val_loss: 0.4461 - val_accuracy: 0.7925\n",
      "Epoch 53/100\n",
      "5359/5359 [==============================] - 1s 140us/step - loss: 0.4219 - accuracy: 0.8108 - val_loss: 0.4461 - val_accuracy: 0.7921\n",
      "Epoch 54/100\n",
      "5359/5359 [==============================] - 1s 150us/step - loss: 0.4214 - accuracy: 0.8102 - val_loss: 0.4462 - val_accuracy: 0.7936\n",
      "Epoch 55/100\n",
      "5359/5359 [==============================] - 1s 145us/step - loss: 0.4209 - accuracy: 0.8117 - val_loss: 0.4471 - val_accuracy: 0.7902\n",
      "Epoch 56/100\n",
      "5359/5359 [==============================] - 1s 143us/step - loss: 0.4206 - accuracy: 0.8132 - val_loss: 0.4465 - val_accuracy: 0.7914\n",
      "Epoch 57/100\n",
      "5359/5359 [==============================] - 1s 134us/step - loss: 0.4205 - accuracy: 0.8106 - val_loss: 0.4463 - val_accuracy: 0.7929\n",
      "Epoch 58/100\n",
      "5359/5359 [==============================] - 1s 137us/step - loss: 0.4199 - accuracy: 0.8099 - val_loss: 0.4477 - val_accuracy: 0.7857\n",
      "Epoch 59/100\n",
      "5359/5359 [==============================] - 1s 136us/step - loss: 0.4199 - accuracy: 0.8112 - val_loss: 0.4466 - val_accuracy: 0.7914\n",
      "Epoch 60/100\n",
      "5359/5359 [==============================] - 1s 137us/step - loss: 0.4194 - accuracy: 0.8112 - val_loss: 0.4469 - val_accuracy: 0.7880\n",
      "Epoch 61/100\n",
      "5359/5359 [==============================] - 1s 139us/step - loss: 0.4194 - accuracy: 0.8108 - val_loss: 0.4465 - val_accuracy: 0.7925\n",
      "Epoch 62/100\n",
      "5359/5359 [==============================] - 1s 144us/step - loss: 0.4194 - accuracy: 0.8108 - val_loss: 0.4470 - val_accuracy: 0.7895\n",
      "Epoch 63/100\n",
      "5359/5359 [==============================] - 1s 156us/step - loss: 0.4188 - accuracy: 0.8102 - val_loss: 0.4475 - val_accuracy: 0.7876\n",
      "Epoch 64/100\n",
      "5359/5359 [==============================] - 1s 150us/step - loss: 0.4188 - accuracy: 0.8110 - val_loss: 0.4475 - val_accuracy: 0.7853\n",
      "Epoch 65/100\n",
      "5359/5359 [==============================] - 1s 142us/step - loss: 0.4185 - accuracy: 0.8119 - val_loss: 0.4473 - val_accuracy: 0.7861\n",
      "Epoch 66/100\n",
      "5359/5359 [==============================] - 1s 146us/step - loss: 0.4182 - accuracy: 0.8113 - val_loss: 0.4477 - val_accuracy: 0.7849\n",
      "Epoch 67/100\n",
      "5359/5359 [==============================] - 1s 138us/step - loss: 0.4182 - accuracy: 0.8099 - val_loss: 0.4474 - val_accuracy: 0.7872\n",
      "Epoch 68/100\n",
      "5359/5359 [==============================] - 1s 141us/step - loss: 0.4181 - accuracy: 0.8112 - val_loss: 0.4459 - val_accuracy: 0.7910\n",
      "Epoch 69/100\n",
      "5359/5359 [==============================] - 1s 135us/step - loss: 0.4178 - accuracy: 0.8108 - val_loss: 0.4459 - val_accuracy: 0.7925\n",
      "Epoch 70/100\n",
      "5359/5359 [==============================] - 1s 154us/step - loss: 0.4179 - accuracy: 0.8113 - val_loss: 0.4466 - val_accuracy: 0.7872\n",
      "Epoch 71/100\n",
      "5359/5359 [==============================] - 1s 142us/step - loss: 0.4175 - accuracy: 0.8134 - val_loss: 0.4457 - val_accuracy: 0.7914\n",
      "Epoch 72/100\n",
      "5359/5359 [==============================] - 1s 147us/step - loss: 0.4173 - accuracy: 0.8123 - val_loss: 0.4465 - val_accuracy: 0.7899\n",
      "Epoch 73/100\n",
      "5359/5359 [==============================] - 1s 149us/step - loss: 0.4171 - accuracy: 0.8134 - val_loss: 0.4469 - val_accuracy: 0.7883\n",
      "Epoch 74/100\n",
      "5359/5359 [==============================] - 1s 143us/step - loss: 0.4169 - accuracy: 0.8117 - val_loss: 0.4460 - val_accuracy: 0.7902\n",
      "Epoch 75/100\n",
      "5359/5359 [==============================] - 1s 140us/step - loss: 0.4166 - accuracy: 0.8112 - val_loss: 0.4454 - val_accuracy: 0.7902\n",
      "Epoch 76/100\n",
      "5359/5359 [==============================] - 1s 151us/step - loss: 0.4161 - accuracy: 0.8123 - val_loss: 0.4442 - val_accuracy: 0.7989\n",
      "Epoch 77/100\n",
      "5359/5359 [==============================] - 1s 149us/step - loss: 0.4162 - accuracy: 0.8112 - val_loss: 0.4461 - val_accuracy: 0.7921\n",
      "Epoch 78/100\n",
      "5359/5359 [==============================] - 1s 147us/step - loss: 0.4159 - accuracy: 0.8117 - val_loss: 0.4447 - val_accuracy: 0.7925\n",
      "Epoch 79/100\n",
      "5359/5359 [==============================] - 1s 140us/step - loss: 0.4152 - accuracy: 0.8125 - val_loss: 0.4429 - val_accuracy: 0.7974\n",
      "Epoch 80/100\n",
      "5359/5359 [==============================] - ETA: 0s - loss: 0.4148 - accuracy: 0.81 - 1s 143us/step - loss: 0.4150 - accuracy: 0.8147 - val_loss: 0.4438 - val_accuracy: 0.7944\n",
      "Epoch 81/100\n",
      "5359/5359 [==============================] - 1s 141us/step - loss: 0.4143 - accuracy: 0.8132 - val_loss: 0.4439 - val_accuracy: 0.7921\n",
      "Epoch 82/100\n",
      "5359/5359 [==============================] - 1s 140us/step - loss: 0.4138 - accuracy: 0.8158 - val_loss: 0.4413 - val_accuracy: 0.8008\n",
      "Epoch 83/100\n",
      "5359/5359 [==============================] - 1s 136us/step - loss: 0.4139 - accuracy: 0.8153 - val_loss: 0.4422 - val_accuracy: 0.7959\n",
      "Epoch 84/100\n",
      "5359/5359 [==============================] - 1s 147us/step - loss: 0.4132 - accuracy: 0.8155 - val_loss: 0.4394 - val_accuracy: 0.8042\n",
      "Epoch 85/100\n",
      "5359/5359 [==============================] - ETA: 0s - loss: 0.4106 - accuracy: 0.81 - 1s 143us/step - loss: 0.4136 - accuracy: 0.8171 - val_loss: 0.4415 - val_accuracy: 0.7970\n",
      "Epoch 86/100\n",
      "5359/5359 [==============================] - 1s 160us/step - loss: 0.4128 - accuracy: 0.8164 - val_loss: 0.4405 - val_accuracy: 0.7982\n",
      "Epoch 87/100\n",
      "5359/5359 [==============================] - 1s 140us/step - loss: 0.4119 - accuracy: 0.8192 - val_loss: 0.4395 - val_accuracy: 0.8008\n",
      "Epoch 88/100\n",
      "5359/5359 [==============================] - 1s 137us/step - loss: 0.4122 - accuracy: 0.8164 - val_loss: 0.4389 - val_accuracy: 0.8031\n",
      "Epoch 89/100\n",
      "5359/5359 [==============================] - 1s 145us/step - loss: 0.4118 - accuracy: 0.8197 - val_loss: 0.4380 - val_accuracy: 0.8042\n",
      "Epoch 90/100\n",
      "5359/5359 [==============================] - 1s 136us/step - loss: 0.4116 - accuracy: 0.8184 - val_loss: 0.4400 - val_accuracy: 0.8012\n",
      "Epoch 91/100\n",
      "5359/5359 [==============================] - 1s 138us/step - loss: 0.4110 - accuracy: 0.8207 - val_loss: 0.4372 - val_accuracy: 0.8073\n",
      "Epoch 92/100\n",
      "5359/5359 [==============================] - 1s 139us/step - loss: 0.4110 - accuracy: 0.8203 - val_loss: 0.4357 - val_accuracy: 0.8111\n",
      "Epoch 93/100\n",
      "5359/5359 [==============================] - 1s 141us/step - loss: 0.4103 - accuracy: 0.8229 - val_loss: 0.4359 - val_accuracy: 0.8141\n",
      "Epoch 94/100\n",
      "5359/5359 [==============================] - 1s 142us/step - loss: 0.4105 - accuracy: 0.8227 - val_loss: 0.4376 - val_accuracy: 0.8058\n",
      "Epoch 95/100\n",
      "5359/5359 [==============================] - 1s 140us/step - loss: 0.4102 - accuracy: 0.8225 - val_loss: 0.4382 - val_accuracy: 0.8027\n",
      "Epoch 96/100\n",
      "5359/5359 [==============================] - 1s 151us/step - loss: 0.4096 - accuracy: 0.8231 - val_loss: 0.4365 - val_accuracy: 0.8058\n",
      "Epoch 97/100\n",
      "5359/5359 [==============================] - 1s 148us/step - loss: 0.4093 - accuracy: 0.8237 - val_loss: 0.4358 - val_accuracy: 0.8099\n",
      "Epoch 98/100\n",
      "5359/5359 [==============================] - 1s 150us/step - loss: 0.4090 - accuracy: 0.8238 - val_loss: 0.4363 - val_accuracy: 0.8058\n",
      "Epoch 99/100\n",
      "5359/5359 [==============================] - 1s 140us/step - loss: 0.4088 - accuracy: 0.8240 - val_loss: 0.4397 - val_accuracy: 0.7997\n",
      "Epoch 100/100\n",
      "5359/5359 [==============================] - 1s 145us/step - loss: 0.4082 - accuracy: 0.8240 - val_loss: 0.4360 - val_accuracy: 0.8069\n"
     ]
    }
   ],
   "source": [
    "# Fitting the ANN to the Training set\n",
    "model_history=classifier.fit(X_train, y_train,validation_split=0.33, batch_size = 10, nb_epoch = 100)"
   ]
  },
  {
   "cell_type": "code",
   "execution_count": 21,
   "metadata": {},
   "outputs": [
    {
     "name": "stdout",
     "output_type": "stream",
     "text": [
      "dict_keys(['val_loss', 'val_accuracy', 'loss', 'accuracy'])\n"
     ]
    }
   ],
   "source": [
    "# list all data in history\n",
    "print(model_history.history.keys())"
   ]
  },
  {
   "cell_type": "code",
   "execution_count": 23,
   "metadata": {},
   "outputs": [
    {
     "data": {
      "image/png": "[encoded data removed]",
      "text/plain": [
       "<Figure size 432x288 with 1 Axes>"
      ]
     },
     "metadata": {
      "needs_background": "light"
     },
     "output_type": "display_data"
    }
   ],
   "source": [
    "# summarize history for accuracy\n",
    "plt.plot(model_history.history['accuracy'])\n",
    "plt.plot(model_history.history['val_accuracy'])\n",
    "plt.title('model accuracy')\n",
    "plt.ylabel('accuracy')\n",
    "plt.xlabel('epoch')\n",
    "plt.legend(['train', 'test'], loc='upper left')\n",
    "plt.show()"
   ]
  },
  {
   "cell_type": "code",
   "execution_count": 24,
   "metadata": {},
   "outputs": [
    {
     "data": {
      "image/png": "[encoded data removed]",
      "text/plain": [
       "<Figure size 432x288 with 1 Axes>"
      ]
     },
     "metadata": {
      "needs_background": "light"
     },
     "output_type": "display_data"
    }
   ],
   "source": [
    "# summarize history for loss\n",
    "plt.plot(model_history.history['loss'])\n",
    "plt.plot(model_history.history['val_loss'])\n",
    "plt.title('model loss')\n",
    "plt.ylabel('loss')\n",
    "plt.xlabel('epoch')\n",
    "plt.legend(['train', 'test'], loc='upper left')\n",
    "plt.show()"
   ]
  },
  {
   "cell_type": "code",
   "execution_count": 25,
   "metadata": {},
   "outputs": [],
   "source": [
    "# Predicting the Test set results\n",
    "y_pred = classifier.predict(X_test)\n",
    "y_pred = (y_pred > 0.5)"
   ]
  },
  {
   "cell_type": "code",
   "execution_count": 28,
   "metadata": {},
   "outputs": [],
   "source": [
    "# Making the Confusion Matrix\n",
    "from sklearn.metrics import confusion_matrix\n",
    "cm = confusion_matrix(y_test, y_pred)"
   ]
  },
  {
   "cell_type": "code",
   "execution_count": 30,
   "metadata": {},
   "outputs": [
    {
     "data": {
      "text/plain": [
       "0.817"
      ]
     },
     "execution_count": 30,
     "metadata": {},
     "output_type": "execute_result"
    }
   ],
   "source": [
    "from sklearn.metrics import accuracy_score\n",
    "accuracy_score(y_pred,y_test)\n"
   ]
  },
  {
   "cell_type": "code",
   "execution_count": null,
   "metadata": {},
   "outputs": [],
   "source": []
  }
 ],
 "metadata": {
  "kernelspec": {
   "display_name": "Python 3",
   "language": "python",
   "name": "python3"
  },
  "language_info": {
   "codemirror_mode": {
    "name": "ipython",
    "version": 3
   },
   "file_extension": ".py",
   "mimetype": "text/x-python",
   "name": "python",
   "nbconvert_exporter": "python",
   "pygments_lexer": "ipython3",
   "version": "3.7.6"
  }
 },
 "nbformat": 4,
 "nbformat_minor": 4
}
